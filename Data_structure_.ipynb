{
  "nbformat": 4,
  "nbformat_minor": 0,
  "metadata": {
    "colab": {
      "provenance": []
    },
    "kernelspec": {
      "name": "python3",
      "display_name": "Python 3"
    },
    "language_info": {
      "name": "python"
    }
  },
  "cells": [
    {
      "cell_type": "markdown",
      "source": [
        "# 1. What are data structures and why are they important?\n",
        "  -> A Data structure is a way of storing and organizing data so that it can be used efficiently.\n",
        "  In python, data structures are basically container that allow you to hold and manage different types of data together.\n",
        "  They are important because they:\n",
        "  1. Data structure are way of storing and organizing data\n",
        "  in python.\n",
        "  2. python provides built-in structures like List,Tuple,Set and Dictionary.\n",
        "  3. They help in managing data efficiently and make operations faster.\n",
        "\n",
        "# 2.Explain the difference between mutable and immutable data types with example.\n",
        "  -> Mutable data types.\n",
        "  1. After creation, you can modify the object.\n",
        "  2. The same object in memory is updated(memory address stays the same).\n",
        "   Example -: List , Dictionary, Set.\n",
        "\n",
        "  -> Immutable data types.\n",
        "  1. After creation, you cannot modify the object.\n",
        "  2. If you try to change it,a new object is created in memory.\n",
        "   Example -: Stinge, Tuple, Int, Float.\n",
        "\n",
        "# 3. What are the main differences between lists and tuples in python?   \n",
        "  -> Main Difference between list and tuple in python:\n",
        "  1. Changeable or Not\n",
        "     *   A list can be changed(we can add, remove, or update item).\n",
        "     *   A tuple cannot be changed once it is created.\n",
        "  2. How to write\n",
        "     *   A list is written with[].\n",
        "     *   A tuple is written with().\n",
        "  3. Speed\n",
        "     * A list is a little slower because it allows changes.\n",
        "     * A tuple is faster because it is fixed.\n",
        "  4. when to use\n",
        "     * Use a list when data may change(like a shopping list).\n",
        "     * Use a tuple when data should stay the same(like days of the week).\n",
        "\n",
        "# 4. Describe how dictionaries store data.\n",
        "  ->\n",
        "    \n",
        "     1. Key-value pairs\n",
        "        \n",
        "        * A dictionary stores data in the form of key:value pairs.\n",
        "     \n",
        "     2. Unique keys\n",
        "        * Each key in a dictionary must be unique.\n",
        "        * Value can repeat, but keys cannot.\n",
        "\n",
        "     3. Access by key\n",
        "        * you get value by calling their key,not by index(like in list).\n",
        "        \n",
        "     4. Mutable\n",
        "        * you can added, update,or remove key-value pairs even after creating a dictionary.\n",
        "\n",
        "# 5. Why might you use a set instead of a list in Python?\n",
        "  -> A set is better than a list when uniqueness and speed are important.\n",
        "   1. No duplicate Allowed\n",
        "       \n",
        "      * A set automatically removes duplicate items.\n",
        "      * Example-:\n",
        "                  numbers = [1, 2, 3, 4, 5, 2]\n",
        "                  unique = set(numbers)\n",
        "                  print(unique)   # {1, 2, 3, 4, 5}\n",
        "   2. Faster lookups\n",
        "     \n",
        "      * checking if an item exists in a set is much faster than in a list(because sets use hasing).\n",
        "        \n",
        "   3. Use case\n",
        "      \n",
        "      * Use a list when order matter or when duplicate are allowed.\n",
        "      * Use a set when you only need unique items and fast searching.\n",
        "\n",
        "# 6. What is a string in Python, and how is it different from a list?\n",
        "  -> A string is an immutable sequence of characters,while a list is a mutable collection that can hold different data types.\n",
        "\n",
        "    1. String- A string is a sequence of characters written inside single (' '), double (\" \"), or triple quotes(''' ''').\n",
        "       \n",
        "    2. Difference from list\n",
        "       * Mutability -> string are immutable (cannot be change ),while list are muatble(can be changed).\n",
        "       * Element -> A string stores only character, but a list can store elements of different data types(number, string, etc.).\n",
        "\n",
        "# 7. How do tuples ensure data integrity in Python?\n",
        "  -> Tuples ensure data integrity by being unchangeable, which makes stored data secure and reliable.\n",
        "\n",
        "  1. Immutability - Tuples are immutable, meaning their elements cannot be changed, added, or removed after creation. This prevents accidental modification of data.\n",
        "  \n",
        "  2. Reliability - Because data in a tuple is fixed, it ensures that important values (like coordinates, dates, or constants) remain safe and consistent throughout the program.\n",
        "       \n",
        "# 8. What is a hash table, and how does it relate to dictionaries in Python?\n",
        "  -> A hash table is the underlying data structure for Python dictionaries, allowing them to store and access key-value pairs quickly.\n",
        "\n",
        "  1. Hash Table - A hash table is a data structure that stores data in key-value pairs. It uses a hash function to convert each key into a unique index, which decides where the value is stored in memory.\n",
        "\n",
        "  2. Relation to Dictionaries - In Python, a dictionary is implemented using a hash table.\n",
        "  \n",
        "  key are passed through a hash function -> convert to an index.\n",
        "\n",
        "# 9. Can lists contain different data types in Python?\n",
        "  -> yes a list can store elements of different data types together(like integer, string, floats, even other list).\n",
        "  \n",
        "  Example -:\n",
        "            \n",
        "            my_list = [10,\"Aditya\",3.14 ,True ]\n",
        "            print(my_list)\n",
        "\n",
        "# 10. Explain why strings are immutable in Python.\n",
        "  -> A string is never modified directly a new one is  always created.\n",
        "   \n",
        "   1. Safety - When a string is changed, a new object is created, and the old one stays safe.\n",
        "\n",
        "   2. Reliability - Strings can be used as dictionary keys, so their value must remain fixed.\n",
        "\n",
        "# 11. What advantages do dictionaries offer over lists for certain tasks?\n",
        "  -> Dictionaries are better than lists when you need quick access and organized data using keys instead of indexes.\n",
        "     \n",
        "     1. Fast Lookups - Dictionaries use a hash table, so searching for a value by its key is much faster than searching through a list.\n",
        "\n",
        "     2. Key-Value Mapping - Dictionaries let you store data as key : value pairs, which is more meaningful and easier to use than relying only on positions (indexes) in a list.\n",
        "\n",
        "# 12. Describe a scenario where using a tuple would be preferable over a list.\n",
        "  -> Use a tuple when the data must stay fixed and unchangeable, like coordinates, dates, or constants.\n",
        "     \n",
        "     * When data should not change -> for example,storing a Date of Birth (DBO):\n",
        "                         dob = (2000, 5, 12) # year, month, day\n",
        "          \n",
        "       A tuple is better here because a DOB never changes.   \n",
        "                           \n",
        "# 13. How do sets handle duplicate value in Python ?                   \n",
        "  ->  Sets in Python store only unique elements; duplicates are ignored.\n",
        "\n",
        "  1. No Duplicates Allowed - A set automatically removes any duplicate values.\n",
        "\n",
        "  2. Result - Even if you add the same value multiple times, it appears only once in the set.\n",
        "\n",
        "# 14. How does the \"in\" keyword work differently for lists and dictionaries?        \n",
        "  -> The in keywords is used to check whether an element exists inside a data structure or not.\n",
        "  it always returns a Boolean value(True or False).\n",
        "\n",
        "     1. in with list\n",
        "        * in keyword checks whether a value/element is present in the sequence.\n",
        "        \n",
        "        * comparison happens element by element.\n",
        "        Example-:\n",
        "                 nums = [10, 20, 30, 40]\n",
        "                 print(20 in nums) # True\n",
        "                 print(25 in nums) # False\n",
        "     \n",
        "     2. in with Dictionaries\n",
        "        * By default, in checks only the keys,not the values.\n",
        "        * if the given element matches a key -> returns True.\n",
        "        * To check values or key-value pairs, we must use.value() or .item().\n",
        "        Example-:\n",
        "                 student = {\"name\":\"Aditya\", \"age\": 22,\"city\": \"Delhi\"}\n",
        "                 print(\"name\" in student) # True\n",
        "                 print(\"Aditya\" in student) # False\n",
        "\n",
        "# 15. Can you modify the elements of a tuple? Explain why or why not.\n",
        "  -> No,you cannot modify the elements of a tuple once it is created. Because tuple is immutable -> its elements cannot be changed,added, or removed after creation.\n",
        "\n",
        "  ->Why Tuple are immutable ?\n",
        "    1. Data safety - Tuple is often used to store fixed data that should not be changed accidentlly.\n",
        "   \n",
        "    Example: date\n",
        "    \n",
        "    2. performance - Since tuple are immutable,python can optimize them for faster access and lower memory usage.\n",
        "\n",
        "    3. Hashability - Tuple can be used as dictionary key or in set (lists cannot),because immutability makes them hashable.\n",
        "\n",
        "# 16.  What is a nested dictionary, and give an example of its use case?\n",
        "  -> A nested dictionary means a dictionary inside another   dictionary.\n",
        "  \n",
        "  It allows us to store data in a hierarchical (tree-like) structure.\n",
        "\n",
        "  Normal dictionary → key : value\n",
        "\n",
        "  Nested dictionary → key : {sub-dictionary}\n",
        "\n",
        "  Example-:\n",
        "           students = {\n",
        "                \"101\": {\"name\":\"Aditya\", \"age\":20, \"course\":\"Ai\"},\n",
        "                \"102\": {\"name\":\"Rahul\", \"age\":22, \"course\":\"Data science\"}\n",
        "           }\n",
        "           print(students[\"101\"][\"name\"])\n",
        "           # output: Aditya\n",
        "           print(students[\"102\"][\"course\"])\n",
        "           # output: Data science\n",
        "# 17. Describe the time complexity of accessing elements in a dictionary.\n",
        "  -> a dictionary is implemented using a Hash Table.\n",
        "     That means when you try to access an element using a key, Python uses the hash value of the key to directly jump to the location in memory.\n",
        "\n",
        "     * Average case: Time complexity o(1)(constant time)\n",
        "     * Worst case: Time complexity o(n)(linear time)\n",
        "\n",
        "# 18. In what situations are lists preferred over dictionaries?\n",
        "  -> Lists are preferred when:\n",
        "\n",
        "     1. When order of elements matters\n",
        "\n",
        "        * list preserve insertion order and allow indexing(list[0])\n",
        "        * useful when you need sequential data.\n",
        "\n",
        "     2. When you don't need key-value pairs\n",
        "\n",
        "        * if data is just a collection of items (like number,name,marks),a list is simpler.\n",
        "        * Dictionary is overkill if no unique keys are required.\n",
        "\n",
        "      3. When duplicate values are allowed\n",
        "\n",
        "         * lists can store duplicate items, while dictionary keys must be unique\n",
        "\n",
        "# 19.  Why are dictionaries considered unordered, and how does that affect data retrieval?                   \n",
        "  -> Dictionaries are considered unordered because elements are stored based on hash values, not index positions.\n",
        "      \n",
        "      1. Hash Table Implementation -\n",
        "         A dictionary is implemented using a hash table, where the position of keys is determined by their hash values, not by insertion sequence.\n",
        "\n",
        "\n",
        "      2. No Fixed Index -\n",
        "         Unlike lists/tuples, dictionaries do not use numeric indexes (0, 1, 2...).\n",
        "         Instead, each element is accessed only through its key.\n",
        "  -> How Does This Affect Data Retrieval?\n",
        "   \n",
        "   * You cannot access dictionary elements by index (like dict[0]).\n",
        "   *  You must always use the key to retrieve values.\n",
        "\n",
        "# 20. Explain the difference between a list and a dictionary in terms of data retrieval.\n",
        "  -> Difference between list and Dictionary in Terms of data Rrtrieval\n",
        "     1. list :\n",
        "          * Elements are retrieved using index numbers (position).\n",
        "\n",
        "          * Index starts from 0.\n",
        "\n",
        "          * Retrieval is position-based.\n",
        "\n",
        "     2. Dictionary :\n",
        "                 \n",
        "                  * Elements are retrieved using keys, not index.\n",
        "\n",
        "                  * Keys can be strings, numbers, or other   immutable objects.\n",
        "\n",
        "                  * Retrieval is key-based.\n",
        "\n",
        "\n",
        "\n",
        "\n",
        "\n",
        "\n",
        "\n",
        "\n",
        "\n",
        "\n",
        "\n",
        "\n",
        "\n",
        "\n",
        "\n",
        "\n",
        "\n",
        "\n",
        "\n",
        "\n",
        "\n"
      ],
      "metadata": {
        "id": "VTGLS8mcmzAs"
      }
    },
    {
      "cell_type": "markdown",
      "source": [
        "Practical Question"
      ],
      "metadata": {
        "id": "wrdWoRmWjRtJ"
      }
    },
    {
      "cell_type": "markdown",
      "source": [
        "# 1. Write a code to create a string with your name and print it."
      ],
      "metadata": {
        "id": "2OGgPkwCnjQ7"
      }
    },
    {
      "cell_type": "code",
      "source": [
        "Name = \"Aditya Mishra\"\n",
        "print(Name)"
      ],
      "metadata": {
        "id": "L93nnR22Kjch",
        "colab": {
          "base_uri": "https://localhost:8080/"
        },
        "outputId": "34826e2e-4005-46b8-bea7-2c967699e93c"
      },
      "execution_count": null,
      "outputs": [
        {
          "output_type": "stream",
          "name": "stdout",
          "text": [
            "Aditya Mishra\n"
          ]
        }
      ]
    },
    {
      "cell_type": "markdown",
      "source": [
        "# 2. Write a code to find the length of string \"Hello World\"."
      ],
      "metadata": {
        "id": "-0df9mRznwZd"
      }
    },
    {
      "cell_type": "code",
      "source": [
        "string = \"Hello World\"\n",
        "print(len(string))"
      ],
      "metadata": {
        "colab": {
          "base_uri": "https://localhost:8080/"
        },
        "id": "tvCxwbWtnRRD",
        "outputId": "09af3726-c121-429a-cede-58304022ff46"
      },
      "execution_count": null,
      "outputs": [
        {
          "output_type": "stream",
          "name": "stdout",
          "text": [
            "11\n"
          ]
        }
      ]
    },
    {
      "cell_type": "markdown",
      "source": [
        "# 3. Write a code to slice the first 3 characters from the string \"Python Programming\"."
      ],
      "metadata": {
        "id": "MNA84VCAoKsi"
      }
    },
    {
      "cell_type": "code",
      "source": [
        "string = \"Python Programming\"\n",
        "print(string[:3])"
      ],
      "metadata": {
        "colab": {
          "base_uri": "https://localhost:8080/"
        },
        "id": "PXyCuvpwoJ3t",
        "outputId": "bddc6a49-3ef8-4bad-dbdd-d95481454be5"
      },
      "execution_count": null,
      "outputs": [
        {
          "output_type": "stream",
          "name": "stdout",
          "text": [
            "Pyt\n"
          ]
        }
      ]
    },
    {
      "cell_type": "markdown",
      "source": [
        "# 4. Write a code to convert the string \"hello\" to uppercase.\n"
      ],
      "metadata": {
        "id": "goqQpfblozb3"
      }
    },
    {
      "cell_type": "code",
      "source": [
        "string = \"hello\"\n",
        "print(string.upper())"
      ],
      "metadata": {
        "colab": {
          "base_uri": "https://localhost:8080/"
        },
        "id": "ljflpP6yoxj_",
        "outputId": "33d38233-d2c6-4d1d-e46f-d54476c2b056"
      },
      "execution_count": null,
      "outputs": [
        {
          "output_type": "stream",
          "name": "stdout",
          "text": [
            "HELLO\n"
          ]
        }
      ]
    },
    {
      "cell_type": "markdown",
      "source": [
        "# 5. Write a code replace the word \"apple\" with \"orange\" in the string \"I like apple\"."
      ],
      "metadata": {
        "id": "Tv70-VfmpZCY"
      }
    },
    {
      "cell_type": "code",
      "source": [
        "string = \"I like apple\"\n",
        "print(string.replace(\"apple\",\"orange\"))\n"
      ],
      "metadata": {
        "colab": {
          "base_uri": "https://localhost:8080/"
        },
        "id": "iiPOL3CopXf3",
        "outputId": "607f9454-1cee-43da-cb5a-43ab28a43b58"
      },
      "execution_count": null,
      "outputs": [
        {
          "output_type": "stream",
          "name": "stdout",
          "text": [
            "I like orange\n"
          ]
        }
      ]
    },
    {
      "cell_type": "markdown",
      "source": [
        "# 6. Write a code to create a list with number 1 to 5 and print it."
      ],
      "metadata": {
        "id": "MResgwrOsrW3"
      }
    },
    {
      "cell_type": "code",
      "source": [
        "number = [1, 2, 3, 4, 5]\n",
        "print(number)"
      ],
      "metadata": {
        "colab": {
          "base_uri": "https://localhost:8080/"
        },
        "id": "HYDGbEPDsulL",
        "outputId": "06efe574-5dce-46bf-eccb-abebe5b15058"
      },
      "execution_count": null,
      "outputs": [
        {
          "output_type": "stream",
          "name": "stdout",
          "text": [
            "[1, 2, 3, 4, 5]\n"
          ]
        }
      ]
    },
    {
      "cell_type": "markdown",
      "source": [
        "# 7. Write a code to append the number 10 to the list[1, 2, 3, 4]."
      ],
      "metadata": {
        "id": "W0yNlM7WtUtd"
      }
    },
    {
      "cell_type": "code",
      "source": [
        "number = [1, 2, 3, 4]\n",
        "number.append(10)\n",
        "print(number)"
      ],
      "metadata": {
        "colab": {
          "base_uri": "https://localhost:8080/"
        },
        "id": "363GcqwjtTqk",
        "outputId": "9fad5d49-a824-4718-b241-14e282524c04"
      },
      "execution_count": null,
      "outputs": [
        {
          "output_type": "stream",
          "name": "stdout",
          "text": [
            "[1, 2, 3, 4, 10]\n"
          ]
        }
      ]
    },
    {
      "cell_type": "markdown",
      "source": [
        "# 8. Write a code to remove the number 3 from the list[1, 2, 3, 4, 5]."
      ],
      "metadata": {
        "id": "Oy8mf7hEu_Ml"
      }
    },
    {
      "cell_type": "code",
      "source": [
        "number = [1, 2, 3, 4, 5]\n",
        "number.remove(3)\n",
        "print(number)"
      ],
      "metadata": {
        "colab": {
          "base_uri": "https://localhost:8080/"
        },
        "id": "hliysxeyuxi-",
        "outputId": "ca092bf4-93e0-43c2-ef75-00420e46dc34"
      },
      "execution_count": null,
      "outputs": [
        {
          "output_type": "stream",
          "name": "stdout",
          "text": [
            "[1, 2, 4, 5]\n"
          ]
        }
      ]
    },
    {
      "cell_type": "markdown",
      "source": [
        "# 9. Write a code to access the second element in the list  ['a','b','c','d'].\n"
      ],
      "metadata": {
        "id": "gSYfztEQvodD"
      }
    },
    {
      "cell_type": "code",
      "source": [
        "element = ['a','b','c','d']\n",
        "second_element = element[1]\n",
        "print(second_element)\n"
      ],
      "metadata": {
        "colab": {
          "base_uri": "https://localhost:8080/"
        },
        "id": "3JinkHWVvnht",
        "outputId": "6768114c-fe3f-40d7-c058-55ca62dcd36b"
      },
      "execution_count": null,
      "outputs": [
        {
          "output_type": "stream",
          "name": "stdout",
          "text": [
            "b\n"
          ]
        }
      ]
    },
    {
      "cell_type": "markdown",
      "source": [
        "# 10. Write a code to reverse the list [10,20,30,40,50]."
      ],
      "metadata": {
        "id": "-nZ1yWbex8OX"
      }
    },
    {
      "cell_type": "code",
      "source": [
        "number = [10,20,30,40,50]\n",
        "number.reverse()\n",
        "print(number)"
      ],
      "metadata": {
        "colab": {
          "base_uri": "https://localhost:8080/"
        },
        "id": "oTA-Ogs8xx1s",
        "outputId": "5d7501c0-517c-4186-f026-0486228b78ab"
      },
      "execution_count": null,
      "outputs": [
        {
          "output_type": "stream",
          "name": "stdout",
          "text": [
            "[50, 40, 30, 20, 10]\n"
          ]
        }
      ]
    },
    {
      "cell_type": "markdown",
      "source": [
        "# 11. Write a code to create a tuple with the element 100,200,300 and print it.\n"
      ],
      "metadata": {
        "id": "TaxRZTbuy_cJ"
      }
    },
    {
      "cell_type": "code",
      "source": [
        "number = (100, 200, 300,)\n",
        "print(number)"
      ],
      "metadata": {
        "colab": {
          "base_uri": "https://localhost:8080/"
        },
        "id": "idy3XlLPy-bq",
        "outputId": "f785b37b-cae9-4ca0-d15c-2cffea34ac2f"
      },
      "execution_count": null,
      "outputs": [
        {
          "output_type": "stream",
          "name": "stdout",
          "text": [
            "(100, 200, 300)\n"
          ]
        }
      ]
    },
    {
      "cell_type": "markdown",
      "source": [
        "# 12. Write a code to access the second-to-element of the tuple('red','green', 'blue', 'yellow').\n"
      ],
      "metadata": {
        "id": "Db4AYySv0JeE"
      }
    },
    {
      "cell_type": "code",
      "source": [
        "color = ('red','green', 'blue', 'yellow')\n",
        "second_element = color[1]\n",
        "print(second_element)"
      ],
      "metadata": {
        "colab": {
          "base_uri": "https://localhost:8080/"
        },
        "id": "JN77kvCQ0It4",
        "outputId": "4786d16f-aafa-4115-d81b-8b777e8fcfe3"
      },
      "execution_count": null,
      "outputs": [
        {
          "output_type": "stream",
          "name": "stdout",
          "text": [
            "green\n"
          ]
        }
      ]
    },
    {
      "cell_type": "markdown",
      "source": [
        "# 13. Write a code to find the minimum number in the tuple(10,20,5,15)."
      ],
      "metadata": {
        "id": "lE6GqFMM086p"
      }
    },
    {
      "cell_type": "code",
      "source": [
        "number = (10,20,5,15)\n",
        "minimum = min(number)\n",
        "print(minimum)"
      ],
      "metadata": {
        "colab": {
          "base_uri": "https://localhost:8080/"
        },
        "id": "rZFKbqZ706uI",
        "outputId": "1531b19b-e7f4-4bd6-a052-5806fa1b4d58"
      },
      "execution_count": null,
      "outputs": [
        {
          "output_type": "stream",
          "name": "stdout",
          "text": [
            "5\n"
          ]
        }
      ]
    },
    {
      "cell_type": "markdown",
      "source": [
        "# 14. Write a code to find the index of the element\"cat\"in the tuple('dog','cat','rabbit')."
      ],
      "metadata": {
        "id": "CDRrjXnf2Zzc"
      }
    },
    {
      "cell_type": "code",
      "source": [
        "Animal = ('dog','cat','rabbit')\n",
        "print(Animal.index('cat'))"
      ],
      "metadata": {
        "colab": {
          "base_uri": "https://localhost:8080/"
        },
        "id": "uKq3O6JV2XgO",
        "outputId": "393bbf55-bdfb-40aa-dc6c-ccaeae5f3d77"
      },
      "execution_count": null,
      "outputs": [
        {
          "output_type": "stream",
          "name": "stdout",
          "text": [
            "1\n"
          ]
        }
      ]
    },
    {
      "cell_type": "markdown",
      "source": [
        "# 15. Write a code to create a tuple containing three different fruits and check if \"kiwi\"is in it."
      ],
      "metadata": {
        "id": "bvspc6J037GV"
      }
    },
    {
      "cell_type": "code",
      "source": [
        "fruits = (\"apple\",\"mango\",\"banana\")\n",
        "if \"kiwi\" in fruits:\n",
        "    print(\"kiwi is in the tuple\")\n",
        "else:\n",
        "    print(\"kiwi is not in the tuple\")"
      ],
      "metadata": {
        "colab": {
          "base_uri": "https://localhost:8080/"
        },
        "id": "McDywljA3yKf",
        "outputId": "3e22be3e-b4d2-4668-81e7-3da926e75398"
      },
      "execution_count": null,
      "outputs": [
        {
          "output_type": "stream",
          "name": "stdout",
          "text": [
            "kiwi is not in the tuple\n"
          ]
        }
      ]
    },
    {
      "cell_type": "markdown",
      "source": [
        "# 16. Write a code to create a set with the elements 'a','b','c' and print it."
      ],
      "metadata": {
        "id": "XvYsDgM-gi5Q"
      }
    },
    {
      "cell_type": "code",
      "source": [
        "letter = {'a','b','c'}\n",
        "print(letter)\n"
      ],
      "metadata": {
        "colab": {
          "base_uri": "https://localhost:8080/"
        },
        "id": "RguwpR6Oghxf",
        "outputId": "32f0ca99-0352-418c-ef84-c3d812f5bf99"
      },
      "execution_count": null,
      "outputs": [
        {
          "output_type": "stream",
          "name": "stdout",
          "text": [
            "{'a', 'b', 'c'}\n"
          ]
        }
      ]
    },
    {
      "cell_type": "markdown",
      "source": [
        "# 17. Write a code to clear all element 4 from the set{1,2,3,4,5}."
      ],
      "metadata": {
        "id": "c3a3gM2chqfP"
      }
    },
    {
      "cell_type": "code",
      "source": [
        "number = {1,2,3,4,5}\n",
        "number.clear()\n",
        "print(number)\n"
      ],
      "metadata": {
        "colab": {
          "base_uri": "https://localhost:8080/"
        },
        "id": "XcfU3SkIhnEI",
        "outputId": "edcc2ea0-71e5-46e6-dee5-7b564a134053"
      },
      "execution_count": null,
      "outputs": [
        {
          "output_type": "stream",
          "name": "stdout",
          "text": [
            "set()\n"
          ]
        }
      ]
    },
    {
      "cell_type": "markdown",
      "source": [
        "# 18. Write a code to remove the elements 4 from the set{1,2,3,4}.\n"
      ],
      "metadata": {
        "id": "Xar0-6ixjIPM"
      }
    },
    {
      "cell_type": "code",
      "source": [
        "numbers = {1,2,3,4}\n",
        "numbers.remove(4)\n",
        "print(numbers)\n"
      ],
      "metadata": {
        "colab": {
          "base_uri": "https://localhost:8080/"
        },
        "id": "X-lQsh_SjFFo",
        "outputId": "71c5bcf0-716e-411f-b0b8-c005f5541fcd"
      },
      "execution_count": null,
      "outputs": [
        {
          "output_type": "stream",
          "name": "stdout",
          "text": [
            "{1, 2, 3}\n"
          ]
        }
      ]
    },
    {
      "cell_type": "markdown",
      "source": [
        "# 19. Write a code to find the union of two sets{1,2,3} and {3,4,5}.\n"
      ],
      "metadata": {
        "id": "pj6i0N9-j64H"
      }
    },
    {
      "cell_type": "code",
      "source": [
        "set_1 = {1,2,3}\n",
        "set_2 = {3,4,5}\n",
        "union_set = set_1.union(set_2)\n",
        "print(union_set)"
      ],
      "metadata": {
        "colab": {
          "base_uri": "https://localhost:8080/"
        },
        "id": "Qjn_2dIqj5Bl",
        "outputId": "6cd76f58-3eea-4592-94de-37cc81180e63"
      },
      "execution_count": null,
      "outputs": [
        {
          "output_type": "stream",
          "name": "stdout",
          "text": [
            "{1, 2, 3, 4, 5}\n"
          ]
        }
      ]
    },
    {
      "cell_type": "markdown",
      "source": [
        "# 20. Write a code to find the intersection of two sets{1,2,3} and {2,3,4}."
      ],
      "metadata": {
        "id": "z8Zs5q99lLbi"
      }
    },
    {
      "cell_type": "code",
      "source": [
        "set_1 = {1,2,3}\n",
        "set_2 = {2,3,4}\n",
        "intersection_set = set_1.intersection(set_2)\n",
        "print(intersection_set)\n"
      ],
      "metadata": {
        "colab": {
          "base_uri": "https://localhost:8080/"
        },
        "id": "RXt0C15ilH0H",
        "outputId": "c5c0a300-145a-4cd4-b804-f15b290c5723"
      },
      "execution_count": null,
      "outputs": [
        {
          "output_type": "stream",
          "name": "stdout",
          "text": [
            "{2, 3}\n"
          ]
        }
      ]
    },
    {
      "cell_type": "markdown",
      "source": [
        "# 21. Write a code to create a dictionary with the keys \"name\",\"age\", and \"city\", and print it."
      ],
      "metadata": {
        "id": "EPtLtJNHmjNP"
      }
    },
    {
      "cell_type": "code",
      "source": [
        "Employee = {\n",
        "\n",
        "            \"name\" : \"Aditya Mishra\",\n",
        "            \"age\" : 22,\n",
        "            \"city\" : \"patna\"\n",
        "\n",
        "}\n",
        "print(Employee)\n"
      ],
      "metadata": {
        "colab": {
          "base_uri": "https://localhost:8080/"
        },
        "id": "gqnEbIhQmh9g",
        "outputId": "686d4a7d-1c1e-4492-ac2e-47b1fa745597"
      },
      "execution_count": null,
      "outputs": [
        {
          "output_type": "stream",
          "name": "stdout",
          "text": [
            "{'name': 'Aditya Mishra', 'age': 22, 'city': 'patna'}\n"
          ]
        }
      ]
    },
    {
      "cell_type": "markdown",
      "source": [
        "# 22. Write code to add a new key-value pair \"country\":\"USA\" to the dictionary{'name':'john','age':25}."
      ],
      "metadata": {
        "id": "knfOUwY1owjU"
      }
    },
    {
      "cell_type": "code",
      "source": [
        "person = {'name':'john','age':25}\n",
        "person['country'] = 'USA'\n",
        "print(person)"
      ],
      "metadata": {
        "colab": {
          "base_uri": "https://localhost:8080/"
        },
        "id": "P0mbdnx8ovmr",
        "outputId": "0166a01e-750b-442c-85e2-77fc3cac9b92"
      },
      "execution_count": null,
      "outputs": [
        {
          "output_type": "stream",
          "name": "stdout",
          "text": [
            "{'name': 'john', 'age': 25, 'country': 'USA'}\n"
          ]
        }
      ]
    },
    {
      "cell_type": "markdown",
      "source": [
        "# 23. Write a code to access the value associated with the key \"name\" in the dictionary{'name':'Alice','age':30}."
      ],
      "metadata": {
        "id": "vkwvgZLTvhA-"
      }
    },
    {
      "cell_type": "code",
      "source": [
        "person = {'name':'Alice','age':30}\n",
        "value = person['name']\n",
        "print(value)\n",
        "\n"
      ],
      "metadata": {
        "colab": {
          "base_uri": "https://localhost:8080/"
        },
        "id": "6IQAwzIevgGd",
        "outputId": "355dfc82-c38c-4663-bb2f-8c70fa2e79f5"
      },
      "execution_count": null,
      "outputs": [
        {
          "output_type": "stream",
          "name": "stdout",
          "text": [
            "Alice\n"
          ]
        }
      ]
    },
    {
      "cell_type": "markdown",
      "source": [
        "# 24. Write a code to remove the key \"age\" from the dictionary ['name': 'Bob', 'age': 22, city:'New York']."
      ],
      "metadata": {
        "id": "jL5vi4M9xYqp"
      }
    },
    {
      "cell_type": "code",
      "source": [
        "person = {'name': 'Bob', 'age': 22, 'city':'New York'}\n",
        "person.pop('age')\n",
        "print(person)"
      ],
      "metadata": {
        "colab": {
          "base_uri": "https://localhost:8080/"
        },
        "id": "IYt-cUF1xXx8",
        "outputId": "b8f94b3a-fe63-465f-ba4d-60ef229cc070"
      },
      "execution_count": null,
      "outputs": [
        {
          "output_type": "stream",
          "name": "stdout",
          "text": [
            "{'name': 'Bob', 'city': 'New York'}\n"
          ]
        }
      ]
    },
    {
      "cell_type": "markdown",
      "source": [
        "# 25. Write a code to check if the key \"city\" exists in the dictionary ('name': 'Alice', 'city': 'Paris')."
      ],
      "metadata": {
        "id": "MHQYLZX1ynUB"
      }
    },
    {
      "cell_type": "code",
      "source": [
        "person = {'name': 'Alice', 'city': 'Paris'}\n",
        "if 'city' in person:\n",
        "    print(\"city is in the dictionary\")\n",
        "else:\n",
        "    print(\"city is not in the dictionary\")"
      ],
      "metadata": {
        "colab": {
          "base_uri": "https://localhost:8080/"
        },
        "id": "qWbi5um6ycqZ",
        "outputId": "7fec2232-f6af-4c8b-dab9-d7002f7be408"
      },
      "execution_count": null,
      "outputs": [
        {
          "output_type": "stream",
          "name": "stdout",
          "text": [
            "city is in the dictionary\n"
          ]
        }
      ]
    },
    {
      "cell_type": "markdown",
      "source": [
        "# 26.  Write a code to create a list, a tuple, and a dictionary, and print them all."
      ],
      "metadata": {
        "id": "DimjkXbOy6eT"
      }
    },
    {
      "cell_type": "code",
      "source": [
        "my_list = [1, 2, 3, 4, 5]\n",
        "my_tuple = (10, 20, 30, 40, 50)\n",
        "my_dict = {'name': 'Alice', 'age': 25}\n",
        "\n",
        "print(\"List:\", my_list)\n",
        "print(\"Tuple:\", my_tuple)\n",
        "print(\"Dictionary:\", my_dict)"
      ],
      "metadata": {
        "colab": {
          "base_uri": "https://localhost:8080/"
        },
        "id": "t-cph4WFy5rV",
        "outputId": "2845a6a8-f684-474e-b68d-d3a7323013a7"
      },
      "execution_count": null,
      "outputs": [
        {
          "output_type": "stream",
          "name": "stdout",
          "text": [
            "List: [1, 2, 3, 4, 5]\n",
            "Tuple: (10, 20, 30, 40, 50)\n",
            "Dictionary: {'name': 'Alice', 'age': 25}\n"
          ]
        }
      ]
    },
    {
      "cell_type": "markdown",
      "source": [
        "# 27. Write a code to create a list of 5 random numbers between 1 and 100, sort it in ascending order, and print the result(replaced)."
      ],
      "metadata": {
        "id": "dXmVTPoCz8PZ"
      }
    },
    {
      "cell_type": "code",
      "source": [
        "import random\n",
        "number = [random.randint(1, 100) for _ in range(5)]\n",
        "number.sort()\n",
        "print(number)"
      ],
      "metadata": {
        "colab": {
          "base_uri": "https://localhost:8080/"
        },
        "id": "sgnP-4m_z68a",
        "outputId": "3f8964c2-1e2c-4d9b-bd1b-866eac0f4157"
      },
      "execution_count": null,
      "outputs": [
        {
          "output_type": "stream",
          "name": "stdout",
          "text": [
            "[4, 51, 78, 93, 99]\n"
          ]
        }
      ]
    },
    {
      "cell_type": "markdown",
      "source": [
        "# 28. Write a code to create a list with strings and print the element at the third index."
      ],
      "metadata": {
        "id": "vspTX62-1WfU"
      }
    },
    {
      "cell_type": "code",
      "source": [
        "cloth = ['shirt','pant','t-shirt','jacket','sweater']\n",
        "element = cloth[2]\n",
        "print(element)"
      ],
      "metadata": {
        "colab": {
          "base_uri": "https://localhost:8080/"
        },
        "id": "8V8ukaGQ1VvM",
        "outputId": "54658486-8932-40ab-9050-766dc6093905"
      },
      "execution_count": null,
      "outputs": [
        {
          "output_type": "stream",
          "name": "stdout",
          "text": [
            "t-shirt\n"
          ]
        }
      ]
    },
    {
      "cell_type": "markdown",
      "source": [
        "# 29 . Write a code to combine two dictionaries into one and print the result."
      ],
      "metadata": {
        "id": "d9QvmN_J2Xo6"
      }
    },
    {
      "cell_type": "code",
      "source": [
        "dict1 = {'a':1, 'b':2}\n",
        "dict2 = {'c':3, 'd':4}\n",
        "dict1.update(dict2)\n",
        "print(dict1)"
      ],
      "metadata": {
        "colab": {
          "base_uri": "https://localhost:8080/"
        },
        "id": "xESD6zFW2VWp",
        "outputId": "1987d193-2fbf-489f-cee4-839cfbdb0935"
      },
      "execution_count": null,
      "outputs": [
        {
          "output_type": "stream",
          "name": "stdout",
          "text": [
            "{'a': 1, 'b': 2, 'c': 3, 'd': 4}\n"
          ]
        }
      ]
    },
    {
      "cell_type": "markdown",
      "source": [
        "# 30. Write a code to convert a list of strings into a set."
      ],
      "metadata": {
        "id": "iTfeqWVV3Xpk"
      }
    },
    {
      "cell_type": "code",
      "source": [
        "gaming_item =[\"Bat\",\"badminton\",\"football\",\"cricket\"]\n",
        "set_item = set(gaming_item)\n",
        "print(set_item)"
      ],
      "metadata": {
        "colab": {
          "base_uri": "https://localhost:8080/"
        },
        "id": "tEVxtLPz3Wtv",
        "outputId": "83226cfc-39ac-4a48-a2a8-d34efc465879"
      },
      "execution_count": null,
      "outputs": [
        {
          "output_type": "stream",
          "name": "stdout",
          "text": [
            "{'badminton', 'cricket', 'Bat', 'football'}\n"
          ]
        }
      ]
    }
  ]
}